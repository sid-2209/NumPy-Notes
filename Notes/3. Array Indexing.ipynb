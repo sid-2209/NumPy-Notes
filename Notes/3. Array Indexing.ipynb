{
 "cells": [
  {
   "metadata": {
    "ExecuteTime": {
     "end_time": "2025-09-07T13:59:12.433580Z",
     "start_time": "2025-09-07T13:59:12.430527Z"
    }
   },
   "cell_type": "code",
   "source": "import numpy as np\n",
   "id": "6b6ff8cd7fce248d",
   "outputs": [],
   "execution_count": 2
  },
  {
   "metadata": {},
   "cell_type": "markdown",
   "source": [
    "# Indexing on ndarrays in NumPy\n",
    "\n",
    "NumPy arrays (`ndarrays`) can be indexed using the standard Python `x[obj]` syntax, where:\n",
    "- `x` is the array\n",
    "- `obj` is the selection (integer, slice, boolean mask, or another array)\n",
    "\n",
    "There are three main types of indexing:\n",
    "1. **Basic Indexing**\n",
    "2. **Advanced Indexing (integer & boolean)**\n",
    "3. **Field Access (for structured arrays)**\n",
    "\n",
    "Indexing works for both **retrieving** and **assigning** data.\n",
    "\n",
    "---"
   ],
   "id": "4df657d44b01a01b"
  },
  {
   "metadata": {},
   "cell_type": "markdown",
   "source": [
    "## Basic Indexing\n",
    "\n",
    "### Single element indexing\n",
    "Works like Python lists (0-based, supports negative indices)."
   ],
   "id": "4d7d0dbe30843ada"
  },
  {
   "metadata": {
    "ExecuteTime": {
     "end_time": "2025-09-07T14:00:24.023133Z",
     "start_time": "2025-09-07T14:00:24.016379Z"
    }
   },
   "cell_type": "code",
   "source": [
    "import numpy as np\n",
    "\n",
    "x = np.arange(10)\n",
    "print(\"x:\", x)\n",
    "\n",
    "print(\"x[2] =\", x[2])     # third element\n",
    "print(\"x[-2] =\", x[-2])   # second from last\n",
    "\n",
    "# Reshape to 2D\n",
    "x.shape = (2, 5)\n",
    "print(\"\\n2D x:\\n\", x)\n",
    "print(\"x[1, 3] =\", x[1, 3])\n",
    "print(\"x[1, -1] =\", x[1, -1])"
   ],
   "id": "9f182ed422aa1f5a",
   "outputs": [
    {
     "name": "stdout",
     "output_type": "stream",
     "text": [
      "x: [0 1 2 3 4 5 6 7 8 9]\n",
      "x[2] = 2\n",
      "x[-2] = 8\n",
      "\n",
      "2D x:\n",
      " [[0 1 2 3 4]\n",
      " [5 6 7 8 9]]\n",
      "x[1, 3] = 8\n",
      "x[1, -1] = 9\n"
     ]
    }
   ],
   "execution_count": 6
  },
  {
   "metadata": {},
   "cell_type": "markdown",
   "source": "**Note -** If you provide fewer indices than dimensions, NumPy returns a **sub-array view**:",
   "id": "8c65693e4ca5bcf6"
  },
  {
   "metadata": {
    "ExecuteTime": {
     "end_time": "2025-09-07T14:01:55.717523Z",
     "start_time": "2025-09-07T14:01:55.711349Z"
    }
   },
   "cell_type": "code",
   "source": [
    "x = np.arange(10).reshape(2, 5)\n",
    "print(\"x:\\n\", x)\n",
    "\n",
    "row0 = x[0]\n",
    "print(\"\\nx[0] returns row0:\", row0)\n",
    "print(\"x[0][2] =\", row0[2])\n",
    "print(\"x[0, 2] =\", x[0, 2])   # equivalent, but more efficient"
   ],
   "id": "fe91138192cf4969",
   "outputs": [
    {
     "name": "stdout",
     "output_type": "stream",
     "text": [
      "x:\n",
      " [[0 1 2 3 4]\n",
      " [5 6 7 8 9]]\n",
      "\n",
      "x[0] returns row0: [0 1 2 3 4]\n",
      "x[0][2] = 2\n",
      "x[0, 2] = 2\n"
     ]
    }
   ],
   "execution_count": 7
  },
  {
   "cell_type": "code",
   "id": "initial_id",
   "metadata": {
    "collapsed": true,
    "ExecuteTime": {
     "end_time": "2025-09-07T13:59:33.782630Z",
     "start_time": "2025-09-07T13:59:33.779979Z"
    }
   },
   "source": [
    "# Boolean Mask\n",
    "arr = np.array([1,2,3,4,5,6,7,8,9])\n",
    "mask = arr % 2 == 0   # boolean mask: True where arr is even\n",
    "print(\"Numbers % 2 are:\", arr[mask])"
   ],
   "outputs": [
    {
     "name": "stdout",
     "output_type": "stream",
     "text": [
      "Numbers % 2 are: [2 4 6 8]\n"
     ]
    }
   ],
   "execution_count": 5
  },
  {
   "metadata": {},
   "cell_type": "markdown",
   "source": [
    "## Slicing and Striding\n",
    "\n",
    "NumPy slices work like Python’s `[start:stop:step]`, but extend to **N dimensions**.\n",
    "\n",
    "**Important:** slicing returns a **view**, not a copy."
   ],
   "id": "30efdf8cf5cb73b2"
  },
  {
   "metadata": {
    "ExecuteTime": {
     "end_time": "2025-09-07T14:05:55.929132Z",
     "start_time": "2025-09-07T14:05:55.923100Z"
    }
   },
   "cell_type": "code",
   "source": [
    "x = np.arange(10)\n",
    "print(\"x:\", x)\n",
    "\n",
    "print(\"x[1:7:2] =\", x[1:7:2])     # step 2\n",
    "print(\"x[-2:10] =\", x[-2:10])     # negative start\n",
    "print(\"x[-3:3:-1] =\", x[-3:3:-1]) # reverse\n",
    "print(\"x[5:] =\", x[5:])           # from index 5 to end"
   ],
   "id": "d4fc3c6b1185c5e8",
   "outputs": [
    {
     "name": "stdout",
     "output_type": "stream",
     "text": [
      "x: [0 1 2 3 4 5 6 7 8 9]\n",
      "x[1:7:2] = [1 3 5]\n",
      "x[-2:10] = [8 9]\n",
      "x[-3:3:-1] = [7 6 5 4]\n",
      "x[5:] = [5 6 7 8 9]\n"
     ]
    }
   ],
   "execution_count": 8
  },
  {
   "metadata": {
    "ExecuteTime": {
     "end_time": "2025-09-07T14:07:56.386562Z",
     "start_time": "2025-09-07T14:07:56.381550Z"
    }
   },
   "cell_type": "code",
   "outputs": [
    {
     "name": "stdout",
     "output_type": "stream",
     "text": [
      "x:\n",
      " [[ 0  1  2  3  4  5]\n",
      " [ 6  7  8  9 10 11]\n",
      " [12 13 14 15 16 17]\n",
      " [18 19 20 21 22 23]]\n",
      "\n",
      "Rows 1 to 2, cols 2 to 4:\n",
      " [[ 8  9 10]\n",
      " [14 15 16]]\n",
      "\n",
      "Every other row:\n",
      " [[ 0  1  2  3  4  5]\n",
      " [12 13 14 15 16 17]]\n"
     ]
    }
   ],
   "execution_count": 10,
   "source": [
    "x = np.arange(24).reshape(4, 6)\n",
    "print(\"x:\\n\", x)\n",
    "\n",
    "print(\"\\nRows 1 to 2, cols 2 to 4:\\n\", x[1:3, 2:5])\n",
    "print(\"\\nEvery other row:\\n\", x[::2])"
   ],
   "id": "13fa7fa5a78223fb"
  },
  {
   "metadata": {
    "ExecuteTime": {
     "end_time": "2025-09-07T14:08:11.231294Z",
     "start_time": "2025-09-07T14:08:11.226545Z"
    }
   },
   "cell_type": "markdown",
   "source": [
    "## Dimensional Indexing Tools\n",
    "\n",
    "### `...` (Ellipsis)\n",
    "Expands to the needed number of `:` to cover all dimensions."
   ],
   "id": "4ab0dc488deb263f"
  },
  {
   "metadata": {
    "ExecuteTime": {
     "end_time": "2025-09-07T18:31:02.978903Z",
     "start_time": "2025-09-07T18:31:02.974953Z"
    }
   },
   "cell_type": "code",
   "source": [
    "x = np.arange(24).reshape(2, 3, 4)\n",
    "print(\"x.shape:\", x.shape)\n",
    "print(x)\n",
    "\n",
    "print(\"\\nx[..., 0]:\\n\", x[..., 0])   # same as x[:, :, 0]"
   ],
   "id": "fb2d2ffc60e51832",
   "outputs": [
    {
     "name": "stdout",
     "output_type": "stream",
     "text": [
      "x.shape: (2, 3, 4)\n",
      "[[[ 0  1  2  3]\n",
      "  [ 4  5  6  7]\n",
      "  [ 8  9 10 11]]\n",
      "\n",
      " [[12 13 14 15]\n",
      "  [16 17 18 19]\n",
      "  [20 21 22 23]]]\n",
      "\n",
      "x[..., 0]:\n",
      " [[ 0  4  8]\n",
      " [12 16 20]]\n"
     ]
    }
   ],
   "execution_count": 18
  },
  {
   "metadata": {},
   "cell_type": "markdown",
   "source": [
    "### `np.newaxis` (or `None`)\n",
    "Used to expand dimensions."
   ],
   "id": "cc41843dbf116490"
  },
  {
   "metadata": {
    "ExecuteTime": {
     "end_time": "2025-09-07T18:30:21.262057Z",
     "start_time": "2025-09-07T18:30:21.259233Z"
    }
   },
   "cell_type": "code",
   "source": [
    "x = np.arange(5)\n",
    "print(\"x shape:\", x.shape)\n",
    "print(\"x:\", x)\n",
    "\n",
    "expanded = x[:, np.newaxis] + x[np.newaxis, :]\n",
    "print(\"\\nBroadcasted 2D addition:\\n\", expanded)"
   ],
   "id": "b068d44aade863fe",
   "outputs": [
    {
     "name": "stdout",
     "output_type": "stream",
     "text": [
      "x shape: (5,)\n",
      "x: [0 1 2 3 4]\n",
      "\n",
      "Broadcasted 2D addition:\n",
      " [[0 1 2 3 4]\n",
      " [1 2 3 4 5]\n",
      " [2 3 4 5 6]\n",
      " [3 4 5 6 7]\n",
      " [4 5 6 7 8]]\n"
     ]
    }
   ],
   "execution_count": 17
  },
  {
   "metadata": {},
   "cell_type": "markdown",
   "source": [
    "## Advanced Indexing\n",
    "\n",
    "Triggered when `obj` is:\n",
    "- an array of integers\n",
    "- a boolean mask\n",
    "- or a tuple containing them\n",
    "\n",
    "Unlike slicing, advanced indexing **always returns a copy**."
   ],
   "id": "72389c9ce6b1c426"
  },
  {
   "metadata": {},
   "cell_type": "markdown",
   "source": "### Integer array indexing",
   "id": "724f1eaa85ce627b"
  },
  {
   "metadata": {
    "ExecuteTime": {
     "end_time": "2025-09-07T18:32:52.165090Z",
     "start_time": "2025-09-07T18:32:52.160263Z"
    }
   },
   "cell_type": "code",
   "source": [
    "x = np.arange(10, 1, -1)\n",
    "print(\"x:\", x)\n",
    "\n",
    "print(\"x[[3, 3, 1, 8]] =\", x[[3, 3, 1, 8]])\n",
    "print(\"x[[3, 3, -3, 8]] =\", x[[3, 3, -3, 8]])"
   ],
   "id": "d7fa7b3ce306da7b",
   "outputs": [
    {
     "name": "stdout",
     "output_type": "stream",
     "text": [
      "x: [10  9  8  7  6  5  4  3  2]\n",
      "x[[3, 3, 1, 8]] = [7 7 9 2]\n",
      "x[[3, 3, -3, 8]] = [7 7 4 2]\n"
     ]
    }
   ],
   "execution_count": 19
  },
  {
   "metadata": {},
   "cell_type": "markdown",
   "source": [
    "### Boolean indexing\n",
    "Useful for filtering values."
   ],
   "id": "8ac110d00652387f"
  },
  {
   "metadata": {
    "ExecuteTime": {
     "end_time": "2025-09-07T18:34:32.723530Z",
     "start_time": "2025-09-07T18:34:32.719010Z"
    }
   },
   "cell_type": "code",
   "source": [
    "x = np.array([1., -1., -2., 3])\n",
    "print(\"Original x:\", x)\n",
    "\n",
    "x[x < 0] += 20\n",
    "print(\"After adding 20 to negatives:\", x)"
   ],
   "id": "f349ac4704ef84de",
   "outputs": [
    {
     "name": "stdout",
     "output_type": "stream",
     "text": [
      "Original x: [ 1. -1. -2.  3.]\n",
      "After adding 20 to negatives: [ 1. 19. 18.  3.]\n"
     ]
    }
   ],
   "execution_count": 20
  },
  {
   "metadata": {
    "ExecuteTime": {
     "end_time": "2025-09-07T18:34:43.082959Z",
     "start_time": "2025-09-07T18:34:43.078965Z"
    }
   },
   "cell_type": "code",
   "source": [
    "# Example: filtering rows by condition\n",
    "x = np.arange(35).reshape(5, 7)\n",
    "b = x > 20\n",
    "\n",
    "print(\"Boolean mask:\\n\", b)\n",
    "print(\"\\nValues > 20:\\n\", x[b])"
   ],
   "id": "86997af654a2e0fc",
   "outputs": [
    {
     "name": "stdout",
     "output_type": "stream",
     "text": [
      "Boolean mask:\n",
      " [[False False False False False False False]\n",
      " [False False False False False False False]\n",
      " [False False False False False False False]\n",
      " [ True  True  True  True  True  True  True]\n",
      " [ True  True  True  True  True  True  True]]\n",
      "\n",
      "Values > 20:\n",
      " [21 22 23 24 25 26 27 28 29 30 31 32 33 34]\n"
     ]
    }
   ],
   "execution_count": 21
  },
  {
   "metadata": {},
   "cell_type": "markdown",
   "source": [
    "## Combining Indexing\n",
    "You can mix slices, integer arrays, and boolean masks."
   ],
   "id": "5ae67a45e18c73d3"
  },
  {
   "metadata": {
    "ExecuteTime": {
     "end_time": "2025-09-07T18:35:11.842024Z",
     "start_time": "2025-09-07T18:35:11.839062Z"
    }
   },
   "cell_type": "code",
   "source": [
    "y = np.arange(35).reshape(5, 7)\n",
    "\n",
    "# Rows 0,2,4 and columns 1:3\n",
    "print(y[[0, 2, 4], 1:3])\n",
    "\n",
    "# Equivalent to\n",
    "print(y[:, 1:3][[0, 2, 4], :])"
   ],
   "id": "e66b953d97ec3e01",
   "outputs": [
    {
     "name": "stdout",
     "output_type": "stream",
     "text": [
      "[[ 1  2]\n",
      " [15 16]\n",
      " [29 30]]\n",
      "[[ 1  2]\n",
      " [15 16]\n",
      " [29 30]]\n"
     ]
    }
   ],
   "execution_count": 22
  },
  {
   "metadata": {},
   "cell_type": "markdown",
   "source": "## Field Access (Structured Arrays)",
   "id": "f43ac0b16005d75"
  },
  {
   "metadata": {
    "ExecuteTime": {
     "end_time": "2025-09-07T18:35:47.435123Z",
     "start_time": "2025-09-07T18:35:47.432382Z"
    }
   },
   "cell_type": "code",
   "source": [
    "x = np.zeros((2, 2), dtype=[('a', np.int32), ('b', np.float64, (3, 3))])\n",
    "print(\"x['a'] shape:\", x['a'].shape, \"dtype:\", x['a'].dtype)\n",
    "print(\"x['b'] shape:\", x['b'].shape, \"dtype:\", x['b'].dtype)"
   ],
   "id": "c876ee94bf7ba030",
   "outputs": [
    {
     "name": "stdout",
     "output_type": "stream",
     "text": [
      "x['a'] shape: (2, 2) dtype: int32\n",
      "x['b'] shape: (2, 2, 3, 3) dtype: float64\n"
     ]
    }
   ],
   "execution_count": 23
  },
  {
   "metadata": {},
   "cell_type": "markdown",
   "source": "## Flat Iterator Indexing",
   "id": "207ed329dedf56d5"
  },
  {
   "metadata": {
    "ExecuteTime": {
     "end_time": "2025-09-07T18:36:06.683439Z",
     "start_time": "2025-09-07T18:36:06.679473Z"
    }
   },
   "cell_type": "code",
   "source": [
    "x = np.arange(6).reshape(2, 3)\n",
    "print(\"x:\\n\", x)\n",
    "\n",
    "print(\"x.flat[3] =\", x.flat[3])        # single index\n",
    "print(\"x.flat[[2, 4]] =\", x.flat[[2, 4]])  # multiple"
   ],
   "id": "33682ca59f9b5538",
   "outputs": [
    {
     "name": "stdout",
     "output_type": "stream",
     "text": [
      "x:\n",
      " [[0 1 2]\n",
      " [3 4 5]]\n",
      "x.flat[3] = 3\n",
      "x.flat[[2, 4]] = [2 4]\n"
     ]
    }
   ],
   "execution_count": 24
  },
  {
   "metadata": {},
   "cell_type": "markdown",
   "source": "## Assigning Values",
   "id": "9c10f210e5520deb"
  },
  {
   "metadata": {
    "ExecuteTime": {
     "end_time": "2025-09-07T18:36:39.285562Z",
     "start_time": "2025-09-07T18:36:39.281784Z"
    }
   },
   "cell_type": "code",
   "source": [
    "x = np.arange(10)\n",
    "x[2:7] = 1\n",
    "print(\"x after slice assignment:\", x)\n",
    "\n",
    "x[2:7] = np.arange(5)\n",
    "print(\"x after array assignment:\", x)\n",
    "\n",
    "# Type conversions\n",
    "x = np.arange(5)\n",
    "x[1] = 1.2   # truncated\n",
    "print(x)"
   ],
   "id": "608d7f65fd63cb7",
   "outputs": [
    {
     "name": "stdout",
     "output_type": "stream",
     "text": [
      "x after slice assignment: [0 1 1 1 1 1 1 7 8 9]\n",
      "x after array assignment: [0 1 0 1 2 3 4 7 8 9]\n",
      "[0 1 2 3 4]\n"
     ]
    }
   ],
   "execution_count": 25
  },
  {
   "metadata": {
    "ExecuteTime": {
     "end_time": "2025-09-07T18:36:50.802759Z",
     "start_time": "2025-09-07T18:36:50.798350Z"
    }
   },
   "cell_type": "markdown",
   "source": [
    "## Dealing with Variable Indices\n",
    "You can use tuples, `slice()` and `Ellipsis` programmatically."
   ],
   "id": "4e41809c8a0bf1d9"
  },
  {
   "metadata": {
    "ExecuteTime": {
     "end_time": "2025-09-07T18:37:04.453267Z",
     "start_time": "2025-09-07T18:37:04.449779Z"
    }
   },
   "cell_type": "code",
   "source": [
    "z = np.arange(81).reshape(3, 3, 3, 3)\n",
    "indices = (1, Ellipsis, 1)\n",
    "print(z[indices])"
   ],
   "id": "e7ee4682b63fb042",
   "outputs": [
    {
     "name": "stdout",
     "output_type": "stream",
     "text": [
      "[[28 31 34]\n",
      " [37 40 43]\n",
      " [46 49 52]]\n"
     ]
    }
   ],
   "execution_count": 27
  },
  {
   "metadata": {},
   "cell_type": "code",
   "outputs": [],
   "execution_count": null,
   "source": "",
   "id": "3afe8e3003df2432"
  }
 ],
 "metadata": {
  "kernelspec": {
   "display_name": "Python 3",
   "language": "python",
   "name": "python3"
  },
  "language_info": {
   "codemirror_mode": {
    "name": "ipython",
    "version": 2
   },
   "file_extension": ".py",
   "mimetype": "text/x-python",
   "name": "python",
   "nbconvert_exporter": "python",
   "pygments_lexer": "ipython2",
   "version": "2.7.6"
  }
 },
 "nbformat": 4,
 "nbformat_minor": 5
}
