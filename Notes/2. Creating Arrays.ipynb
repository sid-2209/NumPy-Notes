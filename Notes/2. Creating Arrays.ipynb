{
 "cells": [
  {
   "metadata": {},
   "cell_type": "markdown",
   "source": "# Array Creation",
   "id": "1c3070407c0b821a"
  },
  {
   "metadata": {
    "ExecuteTime": {
     "end_time": "2025-09-07T12:36:27.130077Z",
     "start_time": "2025-09-07T12:36:26.860767Z"
    }
   },
   "cell_type": "code",
   "source": "import numpy as np",
   "id": "4c5cbf43c3648b66",
   "outputs": [],
   "execution_count": 2
  },
  {
   "metadata": {},
   "cell_type": "markdown",
   "source": [
    "NumPy offers **six main ways** to create arrays. Which method you use depends on whether you’re starting with existing data, generating values, or loading from files.\n",
    "\n",
    "---\n",
    "\n",
    "## 1. Convert from Python structures\n",
    "You can turn built-in Python containers like **lists** or **tuples** into NumPy arrays.\n",
    "\n",
    "```python"
   ],
   "id": "40c0ad3f3ed915b9"
  },
  {
   "metadata": {
    "ExecuteTime": {
     "end_time": "2025-09-07T12:40:30.870190Z",
     "start_time": "2025-09-07T12:40:30.864340Z"
    }
   },
   "cell_type": "code",
   "source": [
    "import numpy as np\n",
    "\n",
    "list_data = [1, 2, 3, 4]\n",
    "tuple_data = (5, 6, 7, 8)\n",
    "\n",
    "arr_from_list = np.array(list_data)\n",
    "arr_from_tuple = np.array(tuple_data)\n",
    "\n",
    "print(arr_from_list)   # [1 2 3 4]\n",
    "print(arr_from_tuple)  # [5 6 7 8]"
   ],
   "id": "f48278b536613992",
   "outputs": [
    {
     "name": "stdout",
     "output_type": "stream",
     "text": [
      "[1 2 3 4]\n",
      "[5 6 7 8]\n"
     ]
    }
   ],
   "execution_count": 5
  },
  {
   "metadata": {},
   "cell_type": "markdown",
   "source": [
    "- a list of numbers will create a 1D array,\n",
    "- a list of lists will create a 2D array,\n",
    "- further nested lists will create higher-dimensional arrays. In general, any array object is called an ndarray in NumPy."
   ],
   "id": "3b216042d0acd9ef"
  },
  {
   "metadata": {
    "ExecuteTime": {
     "end_time": "2025-09-07T12:52:16.203929Z",
     "start_time": "2025-09-07T12:52:16.197452Z"
    }
   },
   "cell_type": "code",
   "source": [
    "a1D = np.array([1, 2, 3, 4])\n",
    "print(a1D)\n",
    "a2D = np.array([[1, 2], [3, 4]])\n",
    "print(a2D)\n",
    "a3D = np.array([[[1, 2], [3, 4]], [[5, 6], [7, 8]]])\n",
    "print(a3D)"
   ],
   "id": "1f34f04e23403de9",
   "outputs": [
    {
     "name": "stdout",
     "output_type": "stream",
     "text": [
      "[1 2 3 4]\n",
      "[[1 2]\n",
      " [3 4]]\n",
      "[[[1 2]\n",
      "  [3 4]]\n",
      "\n",
      " [[5 6]\n",
      "  [7 8]]]\n"
     ]
    }
   ],
   "execution_count": 11
  },
  {
   "metadata": {},
   "cell_type": "markdown",
   "source": [
    "### Data Types in NumPy Arrays\n",
    "\n",
    "When you create an array using `numpy.array()`, it’s important to think about the **data type** (`dtype`) of the elements.\n",
    "You can **explicitly specify** the `dtype` when creating an array.\n",
    "\n",
    "Why does this matter?\n",
    "- The `dtype` determines how much memory each element uses.\n",
    "- It controls how elements are stored internally and how they interact with low-level C/C++ functions that NumPy is built on.\n",
    "- It also affects whether certain values can “fit” in the array.\n",
    "\n",
    "---\n",
    "\n",
    "#### Explicitly setting dtype\n",
    "```python"
   ],
   "id": "57d1b86fd8b3718e"
  },
  {
   "metadata": {
    "ExecuteTime": {
     "end_time": "2025-09-07T12:56:55.095502Z",
     "start_time": "2025-09-07T12:56:55.089688Z"
    }
   },
   "cell_type": "code",
   "source": [
    "import numpy as np\n",
    "\n",
    "arr_int = np.array([1, 2, 3], dtype=np.int32)\n",
    "arr_float = np.array([1, 2, 3], dtype=np.float64)\n",
    "\n",
    "print(arr_int, arr_int.dtype)     # [1 2 3] int32\n",
    "print(arr_float, arr_float.dtype) # [1. 2. 3.] float64"
   ],
   "id": "29ecc056c487de44",
   "outputs": [
    {
     "name": "stdout",
     "output_type": "stream",
     "text": [
      "[1 2 3] int32\n",
      "[1. 2. 3.] float64\n"
     ]
    }
   ],
   "execution_count": 14
  },
  {
   "metadata": {},
   "cell_type": "markdown",
   "source": [
    "#### When values don’t fit the dtype\n",
    "\n",
    "If you try to put a value that doesn’t match the specified dtype, NumPy may raise an error or truncate/convert the value."
   ],
   "id": "b34e72bb05187398"
  },
  {
   "metadata": {
    "ExecuteTime": {
     "end_time": "2025-09-07T12:57:12.941575Z",
     "start_time": "2025-09-07T12:57:12.925694Z"
    }
   },
   "cell_type": "code",
   "source": [
    "# Example 1: Forcing integers into dtype uint8 (0–255)\n",
    "arr = np.array([100, 200, 300], dtype=np.uint8)\n",
    "print(arr)   # [100 200  44]  → 300 is too large for uint8, so it wraps around!\n",
    "\n",
    "# Example 2: Forcing non-integers into int dtype\n",
    "try:\n",
    "    np.array([1.2, 2.5, 3.7], dtype=np.int32)\n",
    "except Exception as e:\n",
    "    print(\"Error:\", e)"
   ],
   "id": "fe8bab78e87f767a",
   "outputs": [
    {
     "ename": "OverflowError",
     "evalue": "Python integer 300 out of bounds for uint8",
     "output_type": "error",
     "traceback": [
      "\u001B[0;31m---------------------------------------------------------------------------\u001B[0m",
      "\u001B[0;31mOverflowError\u001B[0m                             Traceback (most recent call last)",
      "Cell \u001B[0;32mIn[15], line 2\u001B[0m\n\u001B[1;32m      1\u001B[0m \u001B[38;5;66;03m# Example 1: Forcing integers into dtype uint8 (0–255)\u001B[39;00m\n\u001B[0;32m----> 2\u001B[0m arr \u001B[38;5;241m=\u001B[39m \u001B[43mnp\u001B[49m\u001B[38;5;241;43m.\u001B[39;49m\u001B[43marray\u001B[49m\u001B[43m(\u001B[49m\u001B[43m[\u001B[49m\u001B[38;5;241;43m100\u001B[39;49m\u001B[43m,\u001B[49m\u001B[43m \u001B[49m\u001B[38;5;241;43m200\u001B[39;49m\u001B[43m,\u001B[49m\u001B[43m \u001B[49m\u001B[38;5;241;43m300\u001B[39;49m\u001B[43m]\u001B[49m\u001B[43m,\u001B[49m\u001B[43m \u001B[49m\u001B[43mdtype\u001B[49m\u001B[38;5;241;43m=\u001B[39;49m\u001B[43mnp\u001B[49m\u001B[38;5;241;43m.\u001B[39;49m\u001B[43muint8\u001B[49m\u001B[43m)\u001B[49m\n\u001B[1;32m      3\u001B[0m \u001B[38;5;28mprint\u001B[39m(arr)   \u001B[38;5;66;03m# [100 200  44]  → 300 is too large for uint8, so it wraps around!\u001B[39;00m\n\u001B[1;32m      5\u001B[0m \u001B[38;5;66;03m# Example 2: Forcing non-integers into int dtype\u001B[39;00m\n",
      "\u001B[0;31mOverflowError\u001B[0m: Python integer 300 out of bounds for uint8"
     ]
    }
   ],
   "execution_count": 15
  },
  {
   "metadata": {},
   "cell_type": "markdown",
   "source": [
    "#### Memory usage and precision\n",
    "\n",
    "Choosing a smaller dtype saves memory, but reduces precision.\n",
    "Let’s compare the memory footprint of arrays with different dtypes."
   ],
   "id": "65b486973bef4c75"
  },
  {
   "metadata": {
    "ExecuteTime": {
     "end_time": "2025-09-07T12:57:43.137751Z",
     "start_time": "2025-09-07T12:57:43.130692Z"
    }
   },
   "cell_type": "code",
   "source": [
    "# Create 1 million numbers\n",
    "arr_float32 = np.ones(1_000_000, dtype=np.float32)\n",
    "arr_float64 = np.ones(1_000_000, dtype=np.float64)\n",
    "\n",
    "print(\"Float32 size in bytes:\", arr_float32.nbytes)  # 4 MB\n",
    "print(\"Float64 size in bytes:\", arr_float64.nbytes)  # 8 MB"
   ],
   "id": "a4848f72c47cda33",
   "outputs": [
    {
     "name": "stdout",
     "output_type": "stream",
     "text": [
      "Float32 size in bytes: 4000000\n",
      "Float64 size in bytes: 8000000\n"
     ]
    }
   ],
   "execution_count": 16
  },
  {
   "metadata": {},
   "cell_type": "markdown",
   "source": [
    "- float32 uses 4 bytes per element\n",
    "- float64 uses 8 bytes per element\n",
    "\n",
    "That’s double the memory for the same number of elements!\n",
    "\n",
    "By controlling dtype, you balance memory efficiency and precision.\n",
    "This choice becomes crucial when working with large datasets, images, or scientific computations where both performance and accuracy matter."
   ],
   "id": "a007bcdfcf35f268"
  },
  {
   "metadata": {},
   "cell_type": "markdown",
   "source": [
    "## 2. Use NumPy’s built-in functions\n",
    "\n",
    "NumPy provides **40+ built-in functions** to create arrays. These are grouped under the \"array creation routines\".\n",
    "Broadly, they can be split into three categories, based on the *dimension* of the arrays they produce:\n",
    "\n",
    "- **1D arrays**\n",
    "- **2D arrays**\n",
    "- **General ndarrays** (multi-dimensional arrays of any shape)\n",
    "\n",
    "---\n",
    "\n",
    "### a. Creating 1D Arrays\n",
    "\n",
    "The most common 1D creation functions are `numpy.arange()` and `numpy.linspace()`.\n",
    "\n",
    "Both require **at least a start and stop value**. The difference is how you control the spacing:\n",
    "\n",
    "---\n",
    "\n",
    "##### `np.arange(start, stop, step)`\n",
    "Creates arrays with regularly spaced increments.\n",
    "\n",
    "```python"
   ],
   "id": "6e4f72c6b83fad85"
  },
  {
   "metadata": {
    "ExecuteTime": {
     "end_time": "2025-09-07T13:06:22.309864Z",
     "start_time": "2025-09-07T13:06:22.303438Z"
    }
   },
   "cell_type": "code",
   "source": [
    "print(np.arange(10))\n",
    "# [0 1 2 3 4 5 6 7 8 9]\n",
    "\n",
    "print(np.arange(2, 10, dtype=float))\n",
    "# [2. 3. 4. 5. 6. 7. 8. 9.]\n",
    "\n",
    "print(np.arange(2, 3, 0.1))\n",
    "# [2.  2.1 2.2 2.3 2.4 2.5 2.6 2.7 2.8 2.9]"
   ],
   "id": "3ec8422815f52719",
   "outputs": [
    {
     "name": "stdout",
     "output_type": "stream",
     "text": [
      "[0 1 2 3 4 5 6 7 8 9]\n",
      "[2. 3. 4. 5. 6. 7. 8. 9.]\n",
      "[2.  2.1 2.2 2.3 2.4 2.5 2.6 2.7 2.8 2.9]\n"
     ]
    }
   ],
   "execution_count": 17
  },
  {
   "cell_type": "code",
   "id": "initial_id",
   "metadata": {
    "collapsed": true,
    "ExecuteTime": {
     "end_time": "2025-09-07T12:36:33.803128Z",
     "start_time": "2025-09-07T12:36:33.799556Z"
    }
   },
   "source": [
    "print(np.arange(0, 10, 2))  # [0 2 4 6 8]\n",
    "print(np.ones((2, 3)))      # 2x3 array of ones\n",
    "print(np.zeros((3, 2)))     # 3x2 array of zeros\n",
    "print(np.empty((2, 2)))     # 2x2 uninitialized array"
   ],
   "outputs": [
    {
     "name": "stdout",
     "output_type": "stream",
     "text": [
      "[0 2 4 6 8]\n",
      "[[1. 1. 1.]\n",
      " [1. 1. 1.]]\n",
      "[[0. 0.]\n",
      " [0. 0.]\n",
      " [0. 0.]]\n",
      "[[0. 0.]\n",
      " [0. 0.]]\n"
     ]
    }
   ],
   "execution_count": 3
  },
  {
   "metadata": {},
   "cell_type": "markdown",
   "source": [
    "#### Notes:\n",
    "- Best practice: keep start, stop, and step as integers to avoid floating-point rounding issues.\n",
    "- When using floats (like step = 0.1), the output may sometimes include the stop value due to round-off error.\n",
    "\n",
    "\n",
    "#### np.linspace(start, stop, num)\n",
    "\n",
    "Creates arrays with a fixed number of elements equally spaced between start and stop."
   ],
   "id": "5be3a1cca0847c5f"
  },
  {
   "metadata": {
    "ExecuteTime": {
     "end_time": "2025-09-07T13:07:21.604653Z",
     "start_time": "2025-09-07T13:07:21.596660Z"
    }
   },
   "cell_type": "code",
   "source": [
    "np.linspace(1., 4., 6)\n",
    "# [1.  1.6  2.2  2.8  3.4  4. ]"
   ],
   "id": "9e4bcf2dd343ad92",
   "outputs": [
    {
     "data": {
      "text/plain": [
       "array([1. , 1.6, 2.2, 2.8, 3.4, 4. ])"
      ]
     },
     "execution_count": 18,
     "metadata": {},
     "output_type": "execute_result"
    }
   ],
   "execution_count": 18
  },
  {
   "metadata": {},
   "cell_type": "markdown",
   "source": [
    "Key difference:\n",
    "- linspace guarantees both the number of elements and inclusion of the end point.\n",
    "- arange guarantees equal step size but does not include the stop value."
   ],
   "id": "ec6a7d05d5077436"
  },
  {
   "metadata": {},
   "cell_type": "markdown",
   "source": [
    "### b. Creating 2D Arrays\n",
    "\n",
    "NumPy also provides functions for creating special 2D arrays, often used in linear algebra.\n",
    "\n",
    "#### Identity Matrix: np.eye(n, m=None)\n",
    "\n",
    "Creates an identity-like matrix (ones on the diagonal, zeros elsewhere)."
   ],
   "id": "6a1d3c048c16cf8d"
  },
  {
   "metadata": {
    "ExecuteTime": {
     "end_time": "2025-09-07T13:15:42.866591Z",
     "start_time": "2025-09-07T13:15:42.861508Z"
    }
   },
   "cell_type": "code",
   "source": [
    "np.eye(3)\n",
    "# [[1. 0. 0.]\n",
    "#  [0. 1. 0.]\n",
    "#  [0. 0. 1.]]\n",
    "\n",
    "np.eye(3, 5)\n",
    "# [[1. 0. 0. 0. 0.]\n",
    "#  [0. 1. 0. 0. 0.]\n",
    "#  [0. 0. 1. 0. 0.]]"
   ],
   "id": "2428cada93a6a644",
   "outputs": [
    {
     "data": {
      "text/plain": [
       "array([[1., 0., 0., 0., 0.],\n",
       "       [0., 1., 0., 0., 0.],\n",
       "       [0., 0., 1., 0., 0.]])"
      ]
     },
     "execution_count": 19,
     "metadata": {},
     "output_type": "execute_result"
    }
   ],
   "execution_count": 19
  },
  {
   "metadata": {},
   "cell_type": "markdown",
   "source": [
    "#### Diagonal Matrices: np.diag()\n",
    "- Given a 1D list → creates a square matrix with those values on the diagonal.\n",
    "- Given a 2D array → extracts the diagonal values."
   ],
   "id": "a004a97276636d95"
  },
  {
   "metadata": {
    "ExecuteTime": {
     "end_time": "2025-09-07T13:16:32.024830Z",
     "start_time": "2025-09-07T13:16:32.017989Z"
    }
   },
   "cell_type": "code",
   "source": [
    "np.diag([1, 2, 3])\n",
    "# [[1 0 0]\n",
    "#  [0 2 0]\n",
    "#  [0 0 3]]\n",
    "\n",
    "np.diag([1, 2, 3], 1)   # places values one step above main diagonal\n",
    "# [[0 1 0 0]\n",
    "#  [0 0 2 0]\n",
    "#  [0 0 0 3]\n",
    "#  [0 0 0 0]]\n",
    "\n",
    "a = np.array([[1, 2], [3, 4]])\n",
    "np.diag(a)\n",
    "# [1 4]"
   ],
   "id": "853f005cba89e5f3",
   "outputs": [
    {
     "data": {
      "text/plain": [
       "array([1, 4])"
      ]
     },
     "execution_count": 20,
     "metadata": {},
     "output_type": "execute_result"
    }
   ],
   "execution_count": 20
  },
  {
   "metadata": {},
   "cell_type": "markdown",
   "source": [
    "#### Vandermonde Matrix: np.vander(x, n)\n",
    "\n",
    "Generates a matrix where each column is a power of the input vector.\n",
    "Very useful in polynomial fitting and linear least squares models."
   ],
   "id": "7b4de2ec63ecaba2"
  },
  {
   "metadata": {
    "ExecuteTime": {
     "end_time": "2025-09-07T13:17:24.779396Z",
     "start_time": "2025-09-07T13:17:24.772792Z"
    }
   },
   "cell_type": "code",
   "source": [
    "np.vander(np.linspace(0, 2, 5), 2)\n",
    "# [[0.  1.]\n",
    "#  [0.5 1.]\n",
    "#  [1.  1.]\n",
    "#  [1.5 1.]\n",
    "#  [2.  1.]]\n",
    "\n",
    "np.vander([1, 2, 3, 4], 4)\n",
    "# [[ 1  1  1  1]\n",
    "#  [ 8  4  2  1]\n",
    "#  [27  9  3  1]\n",
    "#  [64 16  4  1]]"
   ],
   "id": "84f99de80555523f",
   "outputs": [
    {
     "data": {
      "text/plain": [
       "array([[ 1,  1,  1,  1],\n",
       "       [ 8,  4,  2,  1],\n",
       "       [27,  9,  3,  1],\n",
       "       [64, 16,  4,  1]])"
      ]
     },
     "execution_count": 21,
     "metadata": {},
     "output_type": "execute_result"
    }
   ],
   "execution_count": 21
  },
  {
   "metadata": {},
   "cell_type": "markdown",
   "source": [
    "### c. General ndarray Creation Functions\n",
    "\n",
    "You can create arrays of any dimension using shape tuples.\n",
    "\n",
    "**Zeros:** np.zeros(shape)\n",
    "\n",
    "Creates arrays filled with zeros."
   ],
   "id": "e8c37c73d26d4e61"
  },
  {
   "metadata": {
    "ExecuteTime": {
     "end_time": "2025-09-07T13:20:24.385810Z",
     "start_time": "2025-09-07T13:20:24.379674Z"
    }
   },
   "cell_type": "code",
   "source": [
    "np.zeros((2, 3))\n",
    "# [[0. 0. 0.]\n",
    "#  [0. 0. 0.]]\n",
    "\n",
    "np.zeros((2, 3, 2))\n",
    "# 3D array of zeros"
   ],
   "id": "2949ae71b31c0185",
   "outputs": [
    {
     "data": {
      "text/plain": [
       "array([[[0., 0.],\n",
       "        [0., 0.],\n",
       "        [0., 0.]],\n",
       "\n",
       "       [[0., 0.],\n",
       "        [0., 0.],\n",
       "        [0., 0.]]])"
      ]
     },
     "execution_count": 22,
     "metadata": {},
     "output_type": "execute_result"
    }
   ],
   "execution_count": 22
  },
  {
   "metadata": {},
   "cell_type": "markdown",
   "source": [
    "**Ones:** np.ones(shape)\n",
    "\n",
    "Creates arrays filled with ones."
   ],
   "id": "6b67dd2faeee4427"
  },
  {
   "metadata": {
    "ExecuteTime": {
     "end_time": "2025-09-07T13:20:41.810025Z",
     "start_time": "2025-09-07T13:20:41.805140Z"
    }
   },
   "cell_type": "code",
   "source": [
    "np.ones((2, 3))\n",
    "# [[1. 1. 1.]\n",
    "#  [1. 1. 1.]]"
   ],
   "id": "157976c48b751170",
   "outputs": [
    {
     "data": {
      "text/plain": [
       "array([[1., 1., 1.],\n",
       "       [1., 1., 1.]])"
      ]
     },
     "execution_count": 23,
     "metadata": {},
     "output_type": "execute_result"
    }
   ],
   "execution_count": 23
  },
  {
   "metadata": {},
   "cell_type": "markdown",
   "source": [
    "**Random values:** default_rng().random(shape)\n",
    "\n",
    "Creates arrays filled with random floats between 0 and 1."
   ],
   "id": "6671dcc86e73fda1"
  },
  {
   "metadata": {
    "ExecuteTime": {
     "end_time": "2025-09-07T13:21:03.968317Z",
     "start_time": "2025-09-07T13:21:03.962829Z"
    }
   },
   "cell_type": "code",
   "source": [
    "from numpy.random import default_rng\n",
    "rng = default_rng(42)\n",
    "\n",
    "print(rng.random((2,3)))\n",
    "# [[0.77 0.43 0.86]\n",
    "#  [0.70 0.09 0.98]]"
   ],
   "id": "ce6a07a8776ea2fb",
   "outputs": [
    {
     "name": "stdout",
     "output_type": "stream",
     "text": [
      "[[0.77395605 0.43887844 0.85859792]\n",
      " [0.69736803 0.09417735 0.97562235]]\n"
     ]
    }
   ],
   "execution_count": 24
  },
  {
   "metadata": {},
   "cell_type": "markdown",
   "source": "Setting a seed (42 here) ensures reproducible results.",
   "id": "8ba5c9a691e2ee01"
  },
  {
   "metadata": {},
   "cell_type": "markdown",
   "source": [
    "**Index Grid:** np.indices()\n",
    "\n",
    "Generates index arrays, useful for evaluating functions on a grid."
   ],
   "id": "9b6dfd4fdcb24172"
  },
  {
   "metadata": {
    "ExecuteTime": {
     "end_time": "2025-09-07T13:22:25.805821Z",
     "start_time": "2025-09-07T13:22:25.800477Z"
    }
   },
   "cell_type": "code",
   "source": [
    "np.indices((3,3))\n",
    "# [[[0 0 0]\n",
    "#   [1 1 1]\n",
    "#   [2 2 2]]\n",
    "#\n",
    "#  [[0 1 2]\n",
    "#   [0 1 2]\n",
    "#   [0 1 2]]]"
   ],
   "id": "8f21dc812c9ff1ec",
   "outputs": [
    {
     "data": {
      "text/plain": [
       "array([[[0, 0, 0],\n",
       "        [1, 1, 1],\n",
       "        [2, 2, 2]],\n",
       "\n",
       "       [[0, 1, 2],\n",
       "        [0, 1, 2],\n",
       "        [0, 1, 2]]])"
      ]
     },
     "execution_count": 25,
     "metadata": {},
     "output_type": "execute_result"
    }
   ],
   "execution_count": 25
  },
  {
   "metadata": {},
   "cell_type": "markdown",
   "source": [
    "### 3. Build from existing arrays\n",
    "\n",
    "You can create new arrays by copying, reshaping, stacking, or modifying existing ones."
   ],
   "id": "7c00611e3917a56b"
  },
  {
   "metadata": {},
   "cell_type": "markdown",
   "source": [
    "**Important: In NumPy, slices create views (not independent copies).\n",
    "If you modify the view, the original array changes too.**\n"
   ],
   "id": "b1144da620cb10da"
  },
  {
   "metadata": {},
   "cell_type": "markdown",
   "source": "**Example:** View vs Copy",
   "id": "95f90b38af5e6740"
  },
  {
   "metadata": {
    "ExecuteTime": {
     "end_time": "2025-09-07T13:23:49.552413Z",
     "start_time": "2025-09-07T13:23:49.547942Z"
    }
   },
   "cell_type": "code",
   "source": [
    "a = np.array([1, 2, 3, 4, 5, 6])\n",
    "b = a[:2]   # view of first 2 elements\n",
    "b += 1\n",
    "\n",
    "print(\"a =\", a)   # [2 3 3 4 5 6]\n",
    "print(\"b =\", b)   # [2 3]"
   ],
   "id": "73193e5c2bd4c7b6",
   "outputs": [
    {
     "name": "stdout",
     "output_type": "stream",
     "text": [
      "a = [2 3 3 4 5 6]\n",
      "b = [2 3]\n"
     ]
    }
   ],
   "execution_count": 26
  },
  {
   "metadata": {},
   "cell_type": "markdown",
   "source": "To avoid this, explicitly use .copy():",
   "id": "d5356d838bd3fbc7"
  },
  {
   "metadata": {
    "ExecuteTime": {
     "end_time": "2025-09-07T13:24:34.506341Z",
     "start_time": "2025-09-07T13:24:34.499708Z"
    }
   },
   "cell_type": "code",
   "source": [
    "a = np.array([1, 2, 3, 4])\n",
    "b = a[:2].copy()\n",
    "b += 1\n",
    "\n",
    "print(\"a =\", a)   # [1 2 3 4]\n",
    "print(\"b =\", b)   # [2 3]"
   ],
   "id": "102de3e334c908fd",
   "outputs": [
    {
     "name": "stdout",
     "output_type": "stream",
     "text": [
      "a = [1 2 3 4]\n",
      "b = [2 3]\n"
     ]
    }
   ],
   "execution_count": 27
  },
  {
   "metadata": {},
   "cell_type": "markdown",
   "source": [
    "#### Joining Arrays\n",
    "\n",
    "Use routines like np.vstack, np.hstack, or np.block."
   ],
   "id": "91c96b177e7885b8"
  },
  {
   "metadata": {
    "ExecuteTime": {
     "end_time": "2025-09-07T13:24:58.671935Z",
     "start_time": "2025-09-07T13:24:58.668419Z"
    }
   },
   "cell_type": "code",
   "source": [
    "A = np.ones((2, 2))\n",
    "B = np.eye(2, 2)\n",
    "C = np.zeros((2, 2))\n",
    "D = np.diag((-3, -4))\n",
    "\n",
    "np.block([[A, B], [C, D]])\n",
    "# [[ 1.  1.  1.  0.]\n",
    "#  [ 1.  1.  0.  1.]\n",
    "#  [ 0.  0. -3.  0.]\n",
    "#  [ 0.  0.  0. -4.]]"
   ],
   "id": "65c91f77a057c126",
   "outputs": [
    {
     "data": {
      "text/plain": [
       "array([[ 1.,  1.,  1.,  0.],\n",
       "       [ 1.,  1.,  0.,  1.],\n",
       "       [ 0.,  0., -3.,  0.],\n",
       "       [ 0.,  0.,  0., -4.]])"
      ]
     },
     "execution_count": 28,
     "metadata": {},
     "output_type": "execute_result"
    }
   ],
   "execution_count": 28
  },
  {
   "metadata": {
    "ExecuteTime": {
     "end_time": "2025-09-07T13:25:36.337759Z",
     "start_time": "2025-09-07T13:25:36.332829Z"
    }
   },
   "cell_type": "code",
   "source": [
    "arr = np.array([1, 2, 3])\n",
    "replicated = np.tile(arr, 3)         # Repeat array 3 times\n",
    "reshaped = np.arange(6).reshape(2,3) # Reshape 1D → 2D\n",
    "\n",
    "print(replicated)  # [1 2 3 1 2 3 1 2 3]\n",
    "print(reshaped)    # [[0 1 2]\n",
    "                   #  [3 4 5]]"
   ],
   "id": "801e1ca35da694e8",
   "outputs": [
    {
     "name": "stdout",
     "output_type": "stream",
     "text": [
      "[1 2 3 1 2 3 1 2 3]\n",
      "[[0 1 2]\n",
      " [3 4 5]]\n"
     ]
    }
   ],
   "execution_count": 29
  },
  {
   "metadata": {},
   "cell_type": "markdown",
   "source": [
    "### 4. Load from files\n",
    "\n",
    "Arrays can be loaded from disk in standard formats like .csv or NumPy’s .npy.\n",
    "\n",
    "Often, arrays are stored in external files. NumPy provides multiple ways to load them depending on the format.\n",
    "\n",
    "**Common Binary Formats**\n",
    "- HDF5 → use h5py\n",
    "- FITS (astronomy) → use astropy\n",
    "- Images (JPG, PNG, etc.) → use PIL or OpenCV\n",
    "\n",
    "**Common ASCII Formats**\n",
    "\n",
    "Delimited files like .csv or .tsv can be read using:"
   ],
   "id": "8cd97947407642c3"
  },
  {
   "metadata": {
    "ExecuteTime": {
     "end_time": "2025-09-07T13:27:49.178484Z",
     "start_time": "2025-09-07T13:27:49.172269Z"
    }
   },
   "cell_type": "code",
   "source": [
    "import numpy as np\n",
    "\n",
    "# Step 1: create some sample data\n",
    "data = np.array([\n",
    "    [0, 0],\n",
    "    [1, 1],\n",
    "    [2, 4],\n",
    "    [3, 9]\n",
    "])\n",
    "\n",
    "# Step 2: save as CSV with a header row\n",
    "np.savetxt(\"simple.csv\", data, delimiter=\",\", header=\"x,y\", comments=\"\")\n",
    "\n",
    "# Step 3: load it back (skip the header row)\n",
    "loaded_data = np.loadtxt(\"simple.csv\", delimiter=\",\", skiprows=1)\n",
    "\n",
    "print(\"Loaded Data:\\n\", loaded_data)"
   ],
   "id": "ed3c530734ed26f0",
   "outputs": [
    {
     "name": "stdout",
     "output_type": "stream",
     "text": [
      "Loaded Data:\n",
      " [[0. 0.]\n",
      " [1. 1.]\n",
      " [2. 4.]\n",
      " [3. 9.]]\n"
     ]
    }
   ],
   "execution_count": 31
  },
  {
   "metadata": {
    "ExecuteTime": {
     "end_time": "2025-09-07T13:28:02.916933Z",
     "start_time": "2025-09-07T13:28:02.910985Z"
    }
   },
   "cell_type": "code",
   "source": [
    "# Example: loading a CSV file\n",
    "# arr = np.loadtxt(\"data.csv\", delimiter=\",\")\n",
    "# arr = np.genfromtxt(\"data.csv\", delimiter=\",\")\n",
    "\n",
    "# Example: saving and loading NumPy binary format\n",
    "np.save(\"my_array.npy\", arr_from_list)\n",
    "loaded = np.load(\"my_array.npy\")\n",
    "print(loaded)"
   ],
   "id": "19b3868c6c4cb3c9",
   "outputs": [
    {
     "name": "stdout",
     "output_type": "stream",
     "text": [
      "[1 2 3 4]\n"
     ]
    }
   ],
   "execution_count": 32
  },
  {
   "metadata": {},
   "cell_type": "markdown",
   "source": [
    "### 5. Create from raw data\n",
    "\n",
    "If your data is in raw binary form, you can use low-level functions like:\n",
    "- np.fromfile() / .tofile() → read/write binary data directly\n",
    "- Mind the byte order (endianness) when doing this.\n",
    "\n",
    "For more complex formats, consider wrapping C/C++ libraries."
   ],
   "id": "de77e85ce26d024b"
  },
  {
   "metadata": {
    "ExecuteTime": {
     "end_time": "2025-09-07T12:45:42.855291Z",
     "start_time": "2025-09-07T12:45:42.850541Z"
    }
   },
   "cell_type": "code",
   "source": [
    "raw = b'abcdefgh'\n",
    "arr_from_buffer = np.frombuffer(raw, dtype='S1')\n",
    "print(arr_from_buffer)  # [b'a' b'b' b'c' b'd' b'e' b'f' b'g' b'h']"
   ],
   "id": "1728a5e242c68c4d",
   "outputs": [
    {
     "name": "stdout",
     "output_type": "stream",
     "text": [
      "[b'a' b'b' b'c' b'd' b'e' b'f' b'g' b'h']\n"
     ]
    }
   ],
   "execution_count": 7
  },
  {
   "metadata": {},
   "cell_type": "markdown",
   "source": [
    "### 6. Use special libraries\n",
    "\n",
    "NumPy has submodules like numpy.random that generate random data."
   ],
   "id": "f10ce3a3c28adfe8"
  },
  {
   "metadata": {
    "ExecuteTime": {
     "end_time": "2025-09-07T12:46:53.352550Z",
     "start_time": "2025-09-07T12:46:52.167085Z"
    }
   },
   "cell_type": "code",
   "source": [
    "rand_arr = np.random.rand(2, 3)       # Random floats between 0 and 1\n",
    "rand_ints = np.random.randint(0, 10, (2, 3))  # Random integers 0–9\n",
    "\n",
    "print(rand_arr)\n",
    "print(rand_ints)"
   ],
   "id": "41ef8e46979877e8",
   "outputs": [
    {
     "name": "stdout",
     "output_type": "stream",
     "text": [
      "[[0.87430171 0.60189702 0.7986192 ]\n",
      " [0.80243201 0.28079829 0.48361783]]\n",
      "[[8 1 1]\n",
      " [5 5 1]]\n"
     ]
    }
   ],
   "execution_count": 8
  },
  {
   "metadata": {},
   "cell_type": "markdown",
   "source": [
    "Many scientific libraries in Python use NumPy arrays as their standard format.\n",
    "For example:\n",
    "- SciPy for scientific routines\n",
    "- pandas for tabular data\n",
    "- OpenCV for images"
   ],
   "id": "c72fe1a7d1879c20"
  },
  {
   "metadata": {},
   "cell_type": "markdown",
   "source": [
    "### Note - With these methods, you can create either:\n",
    "- ndarrays (standard multi-dimensional arrays)\n",
    "- Structured arrays (arrays with fields, like database tables, useful for mixed data types)"
   ],
   "id": "e735196ff49b88a4"
  }
 ],
 "metadata": {
  "kernelspec": {
   "display_name": "Python 3",
   "language": "python",
   "name": "python3"
  },
  "language_info": {
   "codemirror_mode": {
    "name": "ipython",
    "version": 2
   },
   "file_extension": ".py",
   "mimetype": "text/x-python",
   "name": "python",
   "nbconvert_exporter": "python",
   "pygments_lexer": "ipython2",
   "version": "2.7.6"
  }
 },
 "nbformat": 4,
 "nbformat_minor": 5
}
