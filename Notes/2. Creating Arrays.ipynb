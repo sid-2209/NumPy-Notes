{
 "cells": [
  {
   "metadata": {},
   "cell_type": "markdown",
   "source": "# Array Creation",
   "id": "1c3070407c0b821a"
  },
  {
   "metadata": {
    "ExecuteTime": {
     "end_time": "2025-09-07T12:36:27.130077Z",
     "start_time": "2025-09-07T12:36:26.860767Z"
    }
   },
   "cell_type": "code",
   "source": "import numpy as np",
   "id": "4c5cbf43c3648b66",
   "outputs": [],
   "execution_count": 2
  },
  {
   "metadata": {},
   "cell_type": "markdown",
   "source": [
    "NumPy offers **six main ways** to create arrays. Which method you use depends on whether you’re starting with existing data, generating values, or loading from files.\n",
    "\n",
    "---\n",
    "\n",
    "### 1. Convert from Python structures\n",
    "You can turn built-in Python containers like **lists** or **tuples** into NumPy arrays.\n",
    "\n",
    "```python"
   ],
   "id": "40c0ad3f3ed915b9"
  },
  {
   "metadata": {
    "ExecuteTime": {
     "end_time": "2025-09-07T12:40:30.870190Z",
     "start_time": "2025-09-07T12:40:30.864340Z"
    }
   },
   "cell_type": "code",
   "source": [
    "import numpy as np\n",
    "\n",
    "list_data = [1, 2, 3, 4]\n",
    "tuple_data = (5, 6, 7, 8)\n",
    "\n",
    "arr_from_list = np.array(list_data)\n",
    "arr_from_tuple = np.array(tuple_data)\n",
    "\n",
    "print(arr_from_list)   # [1 2 3 4]\n",
    "print(arr_from_tuple)  # [5 6 7 8]"
   ],
   "id": "f48278b536613992",
   "outputs": [
    {
     "name": "stdout",
     "output_type": "stream",
     "text": [
      "[1 2 3 4]\n",
      "[5 6 7 8]\n"
     ]
    }
   ],
   "execution_count": 5
  },
  {
   "metadata": {},
   "cell_type": "markdown",
   "source": [
    "### 2. Use NumPy’s built-in functions\n",
    "\n",
    "NumPy has many functions to quickly create arrays with specific patterns or default values."
   ],
   "id": "6e4f72c6b83fad85"
  },
  {
   "cell_type": "code",
   "id": "initial_id",
   "metadata": {
    "collapsed": true,
    "ExecuteTime": {
     "end_time": "2025-09-07T12:36:33.803128Z",
     "start_time": "2025-09-07T12:36:33.799556Z"
    }
   },
   "source": [
    "print(np.arange(0, 10, 2))  # [0 2 4 6 8]\n",
    "print(np.ones((2, 3)))      # 2x3 array of ones\n",
    "print(np.zeros((3, 2)))     # 3x2 array of zeros\n",
    "print(np.empty((2, 2)))     # 2x2 uninitialized array"
   ],
   "outputs": [
    {
     "name": "stdout",
     "output_type": "stream",
     "text": [
      "[0 2 4 6 8]\n",
      "[[1. 1. 1.]\n",
      " [1. 1. 1.]]\n",
      "[[0. 0.]\n",
      " [0. 0.]\n",
      " [0. 0.]]\n",
      "[[0. 0.]\n",
      " [0. 0.]]\n"
     ]
    }
   ],
   "execution_count": 3
  },
  {
   "metadata": {},
   "cell_type": "markdown",
   "source": [
    "### 3. Build from existing arrays\n",
    "\n",
    "You can create new arrays by copying, reshaping, stacking, or modifying existing ones."
   ],
   "id": "7c00611e3917a56b"
  },
  {
   "metadata": {
    "ExecuteTime": {
     "end_time": "2025-09-07T12:37:05.575276Z",
     "start_time": "2025-09-07T12:37:05.571363Z"
    }
   },
   "cell_type": "code",
   "source": [
    "arr = np.array([1, 2, 3])\n",
    "replicated = np.tile(arr, 3)         # Repeat array 3 times\n",
    "reshaped = np.arange(6).reshape(2,3) # Reshape 1D → 2D\n",
    "\n",
    "print(replicated)  # [1 2 3 1 2 3 1 2 3]\n",
    "print(reshaped)    # [[0 1 2]\n",
    "                   #  [3 4 5]]"
   ],
   "id": "801e1ca35da694e8",
   "outputs": [
    {
     "name": "stdout",
     "output_type": "stream",
     "text": [
      "[1 2 3 1 2 3 1 2 3]\n",
      "[[0 1 2]\n",
      " [3 4 5]]\n"
     ]
    }
   ],
   "execution_count": 4
  },
  {
   "metadata": {},
   "cell_type": "markdown",
   "source": [
    "### 4. Load from files\n",
    "\n",
    "Arrays can be loaded from disk in standard formats like .csv or NumPy’s .npy."
   ],
   "id": "8cd97947407642c3"
  },
  {
   "metadata": {
    "ExecuteTime": {
     "end_time": "2025-09-07T12:40:40.806927Z",
     "start_time": "2025-09-07T12:40:40.800437Z"
    }
   },
   "cell_type": "code",
   "source": [
    "# Example: loading a CSV file\n",
    "# arr = np.loadtxt(\"data.csv\", delimiter=\",\")\n",
    "# arr = np.genfromtxt(\"data.csv\", delimiter=\",\")\n",
    "\n",
    "# Example: saving and loading NumPy binary format\n",
    "np.save(\"my_array.npy\", arr_from_list)\n",
    "loaded = np.load(\"my_array.npy\")\n",
    "print(loaded)"
   ],
   "id": "19b3868c6c4cb3c9",
   "outputs": [
    {
     "name": "stdout",
     "output_type": "stream",
     "text": [
      "[1 2 3 4]\n"
     ]
    }
   ],
   "execution_count": 6
  },
  {
   "metadata": {},
   "cell_type": "code",
   "outputs": [],
   "execution_count": null,
   "source": "",
   "id": "1728a5e242c68c4d"
  }
 ],
 "metadata": {
  "kernelspec": {
   "display_name": "Python 3",
   "language": "python",
   "name": "python3"
  },
  "language_info": {
   "codemirror_mode": {
    "name": "ipython",
    "version": 2
   },
   "file_extension": ".py",
   "mimetype": "text/x-python",
   "name": "python",
   "nbconvert_exporter": "python",
   "pygments_lexer": "ipython2",
   "version": "2.7.6"
  }
 },
 "nbformat": 4,
 "nbformat_minor": 5
}
